{
  "cells": [
    {
      "cell_type": "code",
      "execution_count": null,
      "metadata": {
        "colab": {
          "base_uri": "https://localhost:8080/"
        },
        "id": "soggo6Xrb1OM",
        "outputId": "3e12761c-b041-4944-858e-eb22d2c324f8"
      },
      "outputs": [
        {
          "name": "stdout",
          "output_type": "stream",
          "text": [
            "Requirement already satisfied: python-aiml in /usr/local/lib/python3.10/dist-packages (0.9.3)\n",
            "Requirement already satisfied: setuptools in /usr/local/lib/python3.10/dist-packages (from python-aiml) (67.7.2)\n"
          ]
        }
      ],
      "source": [
        "!pip install python-aiml"
      ]
    },
    {
      "cell_type": "code",
      "execution_count": null,
      "metadata": {
        "colab": {
          "base_uri": "https://localhost:8080/"
        },
        "id": "mniXiwaXeUVr",
        "outputId": "8cceef4d-cff0-4536-dd35-55275d8ec29d"
      },
      "outputs": [
        {
          "name": "stdout",
          "output_type": "stream",
          "text": [
            "Mounted at /content/drive\n",
            "/content/drive/MyDrive/4o semestre/inteligência artificial/trabalho final IA\n"
          ]
        }
      ],
      "source": [
        "from google.colab import drive\n",
        "drive.mount('/content/drive')\n",
        "#get_ipython().run_line_magic('cd', '\"/content/drive/MyDrive/4o semestre/inteligência artificial/trabalho final IA/\"')\n",
        "\n",
        "%cd \"/content/drive/MyDrive/4o semestre/inteligência artificial/trabalho final IA/\"\n"
      ]
    },
    {
      "cell_type": "code",
      "execution_count": null,
      "metadata": {
        "colab": {
          "base_uri": "https://localhost:8080/"
        },
        "id": "QQvShkv8F2Vn",
        "outputId": "04a70444-f13c-4593-e666-9783811ccb93"
      },
      "outputs": [
        {
          "name": "stdout",
          "output_type": "stream",
          "text": [
            "Drive already mounted at /content/drive; to attempt to forcibly remount, call drive.mount(\"/content/drive\", force_remount=True).\n"
          ]
        }
      ],
      "source": [
        "from google.colab import drive\n",
        "drive.mount('/content/drive')"
      ]
    },
    {
      "cell_type": "code",
      "execution_count": null,
      "metadata": {
        "colab": {
          "background_save": true,
          "base_uri": "https://localhost:8080/"
        },
        "id": "W_6bZsUhb3Wu",
        "outputId": "eb1bccf4-bf9a-4d84-e96f-b9aff68ceb4e"
      },
      "outputs": [
        {
          "name": "stdout",
          "output_type": "stream",
          "text": [
            "Loading /content/drive/MyDrive/4o semestre/inteligência artificial/trabalho final IA/base.aiml...done (0.01 seconds)\n",
            "Chatbot Especialista em Redes Neurais Artificiais:\n",
            "Olá! Como posso ajudar você hoje? (Digite 'sair' para encerrar)\n",
            "Chatbot: Redes Neurais são técnicas computacionais que apresentam um modelo matemático inspirado na estrutura neural de organismos inteligentes e que adquirem conhecimento através da experiência.Uma grande rede neural artificial pode ter centenas ou milhares de unidades de processamento; já o cérebro de um mamífero pode ter muitos bilhões de neurônios. Fonte: Site de Redes Neurais Artificiais da USP - INSTITUTO DE CIÊNCIAS MATEMÁTICAS E DE COMPUTAÇÃO https://sites.icmc.usp.br/andre/research/neural/\n",
            "Chatbot: Redes Neurais são técnicas computacionais que apresentam um modelo matemático inspirado na estrutura neural de organismos inteligentes e que adquirem conhecimento através da experiência.Uma grande rede neural artificial pode ter centenas ou milhares de unidades de processamento; já o cérebro de um mamífero pode ter muitos bilhões de neurônios. Fonte: Site de Redes Neurais Artificiais da USP - INSTITUTO DE CIÊNCIAS MATEMÁTICAS E DE COMPUTAÇÃO https://sites.icmc.usp.br/andre/research/neural/\n"
          ]
        }
      ],
      "source": [
        "import aiml\n",
        "\n",
        "# Criar o kernel AIML\n",
        "kernel = aiml.Kernel()\n",
        "\n",
        "# Caminho do arquivo AIML emi\n",
        "base_conhecimento_aiml_file = '/content/drive/MyDrive/4o semestre/inteligência artificial/trabalho final IA/base.aiml'\n",
        "\n",
        "# Caminho do arquivo AIML mari\n",
        "#base_conhecimento_aiml_file = '/content/drive/MyDrive/UFCSPA/4º Semestre/IA/trabalho final IA/base.aiml'\n",
        "\n",
        "# Carregar os arquivos AIML\n",
        "kernel.learn(base_conhecimento_aiml_file)\n",
        "\n",
        "# Diálogo com o chatbot\n",
        "print(\"Chatbot Especialista em Redes Neurais Artificiais:\")\n",
        "print(\"Olá! Como posso ajudar você hoje? (Digite 'sair' para encerrar)\")\n",
        "\n",
        "# Esse trecho de código representa a estrutura básica de um ciclo de interação com o usuário. O chatbot solicita uma entrada, processa a entrada usando o kernel AIML para gerar uma resposta e exibe essa resposta. O loop continua até que o usuário escolha encerrar digitando 'sair'.\n",
        "\n",
        "# loop infinito, que continuará executando até ser explicitamente interrompido pelo comando break. Isso permite que o chatbot interaja repetidamente com o usuário.\n",
        "while True:\n",
        "  # Solicita ao usuário que insira uma mensagem. O valor inserido pelo usuário é armazenado na variável user_input.\n",
        "    user_input = input(\"Você: \").lower()\n",
        "\n",
        "# Verifica se a entrada do usuário (convertida para minúsculas usando lower()) é igual a 'sair'. Se for, o chatbot exibe uma mensagem de despedida, imprime \"Até logo!\" e interrompe o loop usando break, encerrando a interação.\n",
        "    if user_input.lower() == 'sair':\n",
        "        print(\"Chatbot: Até logo!\")\n",
        "        break\n",
        "\n",
        "# Usa o kernel AIML para gerar uma resposta com base na entrada do usuário. A função respond do kernel AIML busca padrões na base de conhecimento AIML que correspondam à entrada do usuário e retorna a resposta correspondente.\n",
        "    response = kernel.respond(user_input)\n",
        "\n",
        "# Exibe a resposta gerada pelo chatbot. A resposta é formatada como \"Chatbot: [resposta]\" e é apresentada ao usuário.\n",
        "    print(f\"Chatbot: {response}\")\n"
      ]
    }
  ],
  "metadata": {
    "colab": {
      "provenance": []
    },
    "kernelspec": {
      "display_name": "Python 3",
      "name": "python3"
    },
    "language_info": {
      "name": "python"
    }
  },
  "nbformat": 4,
  "nbformat_minor": 0
}